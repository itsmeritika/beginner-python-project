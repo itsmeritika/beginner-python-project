{
 "cells": [
  {
   "cell_type": "code",
   "execution_count": 4,
   "metadata": {},
   "outputs": [
    {
     "name": "stderr",
     "output_type": "stream",
     "text": [
      "<>:6: SyntaxWarning: invalid escape sequence '\\.'\n",
      "<>:6: SyntaxWarning: invalid escape sequence '\\.'\n",
      "C:\\Users\\uSER\\AppData\\Local\\Temp\\ipykernel_4164\\1116109779.py:6: SyntaxWarning: invalid escape sequence '\\.'\n",
      "  email_condition = \"^[a-z]+[\\._]?[a-z 0-9]+[@]\\w+[.]\\w{2,3}$\"\n"
     ]
    },
    {
     "name": "stdout",
     "output_type": "stream",
     "text": [
      "Right email\n"
     ]
    }
   ],
   "source": [
    "# a-z\n",
    "# 0-9\n",
    "# . _ time 1\n",
    "# @ time 1\n",
    "import re\n",
    "email_condition = \"^[a-z]+[\\._]?[a-z 0-9]+[@]\\w+[.]\\w{2,3}$\"\n",
    "user_email = input(\"Enter your Email : \")\n",
    "if re.search(email_condition, user_email):\n",
    "    print(\"Right email\")\n",
    "else:\n",
    "    print(\"Wrong email\")\n",
    "\n"
   ]
  }
 ],
 "metadata": {
  "kernelspec": {
   "display_name": "Python 3",
   "language": "python",
   "name": "python3"
  },
  "language_info": {
   "codemirror_mode": {
    "name": "ipython",
    "version": 3
   },
   "file_extension": ".py",
   "mimetype": "text/x-python",
   "name": "python",
   "nbconvert_exporter": "python",
   "pygments_lexer": "ipython3",
   "version": "3.12.4"
  }
 },
 "nbformat": 4,
 "nbformat_minor": 2
}
