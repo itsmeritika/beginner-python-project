{
 "cells": [
  {
   "cell_type": "code",
   "execution_count": 1,
   "metadata": {},
   "outputs": [
    {
     "name": "stdout",
     "output_type": "stream",
     "text": [
      " right email\n"
     ]
    }
   ],
   "source": [
    "email = input(\"Enter your email : \")\n",
    "k=0\n",
    "j=0\n",
    "d=0\n",
    "if len(email)>=6:\n",
    "    if email[0].isalpha():\n",
    "        if (\"@\" in email) and (email.count(\"@\")==1):\n",
    "            if (email[-4]==\".\"):\n",
    "                for i in email:\n",
    "                    if i==i.isspace():\n",
    "                        k=1\n",
    "                    elif i.isalpha():\n",
    "                        if i==i.upper():\n",
    "                            j=1\n",
    "                    elif i.isdigit():\n",
    "                        continue\n",
    "                    elif i==\"_\" or i==\".\" or i==\"@\":\n",
    "                        continue\n",
    "                    else:\n",
    "                        d =1\n",
    "                if k==1 or j==1 or d==1:\n",
    "                    print(\"Email not validate\")\n",
    "                else:\n",
    "                    print(\" right email\")\n",
    "\n",
    "            else:\n",
    "                print(\"must contain . before com\")\n",
    "        else:\n",
    "            print(\"you got problem in @\")\n",
    "    else:\n",
    "        print(\" 1st letter must be capital\")\n",
    "else:\n",
    "    print(\"length must be 6 and more\") ## for length\n",
    "\n"
   ]
  }
 ],
 "metadata": {
  "kernelspec": {
   "display_name": "Python 3",
   "language": "python",
   "name": "python3"
  },
  "language_info": {
   "codemirror_mode": {
    "name": "ipython",
    "version": 3
   },
   "file_extension": ".py",
   "mimetype": "text/x-python",
   "name": "python",
   "nbconvert_exporter": "python",
   "pygments_lexer": "ipython3",
   "version": "3.12.4"
  }
 },
 "nbformat": 4,
 "nbformat_minor": 2
}
